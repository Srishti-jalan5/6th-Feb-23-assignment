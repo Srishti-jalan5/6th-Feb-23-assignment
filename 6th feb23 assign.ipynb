{
 "cells": [
  {
   "cell_type": "code",
   "execution_count": 7,
   "id": "4bc58624-b540-4f10-8006-26a347f0fa07",
   "metadata": {},
   "outputs": [
    {
     "data": {
      "text/plain": [
       "5536377149022720"
      ]
     },
     "execution_count": 7,
     "metadata": {},
     "output_type": "execute_result"
    }
   ],
   "source": [
    "from functools import reduce\n",
    "list1 = [1,2,3,4, [44,55,66, True], False, (34,56,78,89,34), {1,2,3,3,2,1}, {1:34, \"key2\": [55, 67, 78, 89], 4: (45,\n",
    "22, 61, 34)}, [56, 'data science'], 'Machine Learning']\n",
    "\n",
    "def product(list):\n",
    "    l=[]\n",
    "    for i in list1:\n",
    "        if(type(i) == list or type(i) == tuple or type(i) == set):\n",
    "            for j in i:\n",
    "               if(type(j) == int):\n",
    "                 l.append(j)\n",
    "        elif(type(i) == dict):\n",
    "            for k in i.values():\n",
    "               if(type(k) == list or type(k) == tuple or type(k) == set):\n",
    "                 for v in k:\n",
    "                    if(type(v) == int):\n",
    "                         l.append(v) \n",
    "    product=reduce(lambda x,y : x*y , l)\n",
    "    return product\n",
    "          \n",
    "product(list1)\n"
   ]
  },
  {
   "cell_type": "code",
   "execution_count": 11,
   "id": "23f84d8a-55ee-4deb-a18f-90324857d63d",
   "metadata": {},
   "outputs": [
    {
     "name": "stdin",
     "output_type": "stream",
     "text": [
      "Enter the message to be Encrypted:  I want to become a data scientist\n"
     ]
    },
    {
     "name": "stdout",
     "output_type": "stream",
     "text": [
      "Encrypted message: r$dzmg$gl$yvxlnv$z$wzgz$hxrvmgrhg\n"
     ]
    }
   ],
   "source": [
    "s = input(\"Enter the message to be Encrypted: \")\n",
    "s = s.lower()\n",
    "s=s.replace(\" \",'$')\n",
    "encrypted = \"\"\n",
    "for i in s:\n",
    "    if( i == '$'):\n",
    "        encrypted = encrypted + '$'\n",
    "    else:\n",
    "        encrypted = encrypted + chr(ord(i) + 25 - 2*(ord(i) - ord('a')))\n",
    "    \n",
    "\n",
    "print(\"Encrypted message:\", encrypted)\n",
    "    "
   ]
  },
  {
   "cell_type": "code",
   "execution_count": null,
   "id": "8a818bee-d26e-4283-8bdd-a03bfd4ea421",
   "metadata": {},
   "outputs": [],
   "source": []
  }
 ],
 "metadata": {
  "kernelspec": {
   "display_name": "Python 3 (ipykernel)",
   "language": "python",
   "name": "python3"
  },
  "language_info": {
   "codemirror_mode": {
    "name": "ipython",
    "version": 3
   },
   "file_extension": ".py",
   "mimetype": "text/x-python",
   "name": "python",
   "nbconvert_exporter": "python",
   "pygments_lexer": "ipython3",
   "version": "3.10.8"
  }
 },
 "nbformat": 4,
 "nbformat_minor": 5
}
